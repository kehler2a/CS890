{
 "cells": [
  {
   "cell_type": "markdown",
   "metadata": {},
   "source": [
    "# Modernizing Credit Risk Modelling\n",
    "## Using machine learning to challenge industry norms\n",
    "\n",
    "<br/>\n",
    "\n",
    "![alt text](https://miro.medium.com/max/1500/1*c_fiB-YgbnMl6nntYGBMHQ.jpeg \"Title\")\n",
    "Image citation: buffaloboy “Machine learning banner, artificial intelligence, Machine learning and Deep learning flat line vector banner with icons on blue background” Shutterstock, Royalty-free stock vector ID: 1098841148\n",
    "<br/>\n",
    "\n",
    "<br/>\n",
    "\n",
    "### University of Regina - CS 890ES - Data Science Fundamentals - Term Project - Winter 2020\n",
    "#### Adam Kehler (kehler2a@uregina.ca, SN 200251114)\n",
    "\n",
    "**About the author:**\n",
    "I am a PhD student in the Math & Stats department at the University of Regina with a focus on computational statistics. Given my focus, I find certain computer science courses extremely relevant and beneficial in developing the skills I need to excel in my research - this Data Science Fundamentals course being a prime example. Beyond my academic world, I am the director of a modelling and data science team at Farm Credit Canada (FCC). I have been with the organization for about 9 years in various roles ranging from market analytics, to operational research, to financial analyst, to pension manager, to my current role as director. These roles might seem very different, but they all leveraged the analytical capabilities I developed with my actuarial science and statistics background. My current job allows me the unique opportunity to help solve a business problem at my organization  for this CS 890ES Term Project.  \n",
    "\n",
    "\n",
    "---------------------------------------------------------------------------------------------------------------------------\n",
    "<br/>"
   ]
  },
  {
   "cell_type": "markdown",
   "metadata": {},
   "source": [
    "## 1. Problem Statement\n",
    "\n",
    "My objective is to use modern data science and machine learning techniques to benchmark, challenge, refine, and enhance the more traditional statistical modelling methods employed currently at my organization for processes related to certain accounting standards and banking regulations.\n",
    "\n",
    "<br/>"
   ]
  },
  {
   "cell_type": "markdown",
   "metadata": {},
   "source": [
    "## 2. Introduction and Background\n",
    "\n",
    "### 2.1 Accounting standards and banking regulations\n",
    "\n",
    "Financial institutions are subject to various standards and regulations. In Canada, prominent examples include the International Financial Reporting Standards (IFRS) issued by the International Accounting Standards Board (IASB), and the regulatory guidelines issued by Canada’s Office of the Superintendent of Financial Institutions (OSFI). More specifically, as it relates to Canadian banks, OSFI issues the Capital Adequacy Requirements (CAR) guidelines domestically which are designed to adhere to the relevant parts of the Basel Framework – which is a full set of international standards prepared by the Basel Committee on Banking Supervision (BCBS). \n",
    "\n",
    "My organization is required to comply with IFRS and is asked to align our practices with OSFI CAR guidelines.\n",
    "\n",
    "\n",
    "### 2.2 Adoption of machine learning techniques\n",
    "\n",
    "For banks to adhere to these standards and regulations, considerable efforts are required from a data and modelling perspective. As a result of the importance and scrutiny put on these processes, the data and modelling techniques generally need to be transparent, defensible, auditable, and reliable. This has led to a more moderate adoption rate of modern data science and machine learning approaches within the industry. This point is showcased in a recent Financial Post article: [\"What's in the black box? Rise of artificial intelligence in banking presents challenge for OSFI\" ](https://business.financialpost.com/news/fp-street/whats-in-the-black-box-rise-of-artificial-intelligence-in-banking-presents-challenge-for-osfi)\n",
    "\n",
    "As a stepping stone these more modern techniques are starting to emerge as ways to benchmark, challenge, refine, and enhance more traditional techniques that are more commonly accepted within the standards and regulatory regime.\n",
    "\n",
    "My perspective would be that my organization is no exception to the more moderate adoption trend.\n",
    "\n",
    "\n",
    "### 2.3 Business use and application\n",
    "\n",
    "Within my organization there is a group called Model Governance Committee (MGC), which is comprised of certain members of senior management (i.e. Vice-Presidents). Among their responsibilities is: 1) approving models for use within the business and 2) reviewing model performance on an on-going basis. In addition, there are other committees in the organization that receive outputs from the models to help them make decisions. These committees require a certain level of assurance that the models are developed, maintained, and performing well. To aid in this we have model development guidelines that we follow, as well as process for model performance monitoring. Within this, it is often important to have alternative models that are used to help benchmark, challenge, and understand the implemented model. There is an opportunity to use non-traditional statistical models as these alternatives to improve the assurance we are able to provide senior management. Overtime, the company's comfort with these non-traditional approaches will grow and they can become more mainstream.\n",
    "<br/>\n",
    "\n",
    "### 2.4 Objective\n",
    "\n",
    "Therefore, my objective is to use **modern data science and machine learning techniques** to benchmark, **challenge**, refine, and enhance one of the more **traditional statistical methods** employed at my organization for **accounting or regulatory purposes**.\n",
    "\n",
    "More specifically, the Loss Given Default (LGD) model used for calculating the Expected Credit Losses (ECL) for accounting purposes.\n",
    "\n",
    "<br/>"
   ]
  },
  {
   "cell_type": "markdown",
   "metadata": {},
   "source": [
    "## 3. Solution Overview\n",
    "\n",
    "### 3.1 Scope\n",
    "\n",
    "The model that I believe would make a particularly good candidate for exploring machine learnings alternatives to compare against the more traditional statistical approaches being used is an LGD Model. It forms part of the Allowance for Credit Loss (ACL) calculations as per the IFRS 9 accounting standard for determining expected credit losses in a loan portfolio.\n",
    "\n",
    "**Note - change in scope from proposal -** When initially drafting the project proposal I decided to specify the LGD model, as well as the PD Term Structure model. Since then, work has been identified at my organization in regards to the LGD model. Given this is higher priority than the PD Term Structure, and that a key criteria of this CS890ES Term Project is to solve a business problem, I am opting to expand my scope on the LGD model in place of the PD Term Structure model. In addition, I found that there was much more to \"play around\" with related to the LGD model than first anticipated.\n",
    "\n",
    "### 3.2 Current LGD Model\n",
    "The model is used to determine the loss that is expected to occur conditional on the loan having defaulted. This involves looking back at the losses incurred by historical loans that have defaulted. The objective is to find characteristics about a defaulted loan or situation that is predictive of the expected losses given the default occurs.  \n",
    "\n",
    "The current model follows a two-stage micro-structure model that decomposes LGD into two independent components - the Probability of Write-off given Default (PWOD) and the Expected Loss given Write-off (ELWO). That is, the PWOD represents the probability that a loan that has defaulted will end up being written-off (i.e. it does not recover) and the ELWO represents the expected severity of the loss given a write-off occurs. The relationship between LGD, PWOD, and ELWO is summarized by:\n",
    "$$E(LGD)=E(PWOD\\times ELWO)=E(PWOD)\\times E(ELWO).$$\n",
    "\n",
    "Where $E(\\cdot)$ is the notation for the expected value of the random variable within the parentheses. The above formula relies on the assumption that PWOD and ELWO are independent random variables - this allows us to make the assertion that the expected value of the product is equal to the product of the expected values. This is a simplifying assumption that is generally accepted in the industry for the purpose of modelling expected credit losses.\n",
    "\n",
    "The models for PWOD and ELWO are both based on common scorecard approaches that are built using logistic regression. For PWOD this is a natural fit since we are interested in the binary outcome of \"write-off\" or \"no write-off\". For ELWO, the outcome is theoretically a continuous number between 0 and 1 (i.e. no loss to total loss). Logistic regression is still leveraged in this case using industry standard transformations on the input data.\n",
    "\n",
    "### 3.3 Proposed approaches\n",
    "There are multiple machine learning techniques that might be appropriate for LGD modelling (Tiziano Bellini, IFRS 9 and CECL Credit Risk Modelling and Validation: A Practical Guide with Examples Worked in R and SAS, 2019). To some extent, which techniques are appropriate depends on whether the two-stage microstructure approach is retained from the current LGD Model or if the preference is to model LGD directly in one-step. Within the two-stage approach, a classification method will be needed for the first step and something capable of regressing for a continous output will be needed for the second step. Whereas the one-step approach would need to go directly to a continuous output approach. The following approaches will be explored:\n",
    "1. Two-step models\n",
    "    1. Random Forest classification with Random Forest regression\n",
    "    2. Random Forest classification with K-Nearest Neighbors regression\n",
    "\n",
    "    Note - The 1st step and 2nd step models will be combined using two different approaches (this will be described later when executing the analysis).\n",
    "\n",
    "2. One-step models\n",
    "    1. Random Forest regression\n",
    "    2. K-Nearest Neighbors regression\n",
    "    3. Neural Network (multi-layer perceptron) regression\n",
    "    4. Simulation based model*\n",
    "\n",
    "    *This is an extension of scoping in an LGD simulation model, described later.\n",
    "\n",
    "### 3.4 Compare Performance\n",
    "Recall that the objective of this project is to use modern data science and machine learning techniques to benchmark, challenge, refine, and enhance the more traditional statistical modelling methods. As such, of prime importance to me is how the alterative approaches described earlier perform compared to the current approach. Performance in this context refers to model fit, accuracy, predictability, etc., as opposed to run-time performance.\n",
    "\n",
    "Performance will be assessed by comparing the current and alternative models against actual data to determine which most accurately predicts LGD rates. The performance comparison will be made on the test data after the models have been built on separate training data. The key performance measures will be Mean Absolute Error (MAE), Mean Absolute Percentage Error (MAPE), and Mean Arctan Absolute Percentage Error (MAAPE).\n",
    "\n",
    "<br/>"
   ]
  },
  {
   "cell_type": "markdown",
   "metadata": {},
   "source": [
    "## 4. Data, Modelling, & Analysis\n",
    "This section summarizes the data and the analysis (i.e. model development and performance assessments).\n",
    "\n",
    "### 4.1 LGD Data\n",
    "\n",
    "The first step is to import our data. The observed LGD data from 2002 to 2012 was readily available from a previous iteration of LGD model development. This data set will be used for this analysis to facilitate performance comparisons against the original model. The data file I was originally provided had 7,264 defaults with 172 columns of various information related to each default event. This equates to approx. 1.25 million pieces of information related to default events. However, due to data quality, as well as relevance of the information, I narrowed this down to 21 columns of information (for approx. 150,000 pieces of information related to default events). For propriatary reasons, the raw data can't be shared within this project. However, summary statistics for some of the data will be provided below to help understand the data.\n",
    "\n",
    "The data was originally extracted from systems such as SAP, Oracle databases, Teradata databases, and Excel spreadsheets, combined using SQL in SAS. Due to system access limitations, this data was put into CSV format to be uploaded into this Python Jupyter Notebook using pandas."
   ]
  },
  {
   "cell_type": "code",
   "execution_count": 5,
   "metadata": {},
   "outputs": [
    {
     "data": {
      "text/html": [
       "<div>\n",
       "<style scoped>\n",
       "    .dataframe tbody tr th:only-of-type {\n",
       "        vertical-align: middle;\n",
       "    }\n",
       "\n",
       "    .dataframe tbody tr th {\n",
       "        vertical-align: top;\n",
       "    }\n",
       "\n",
       "    .dataframe thead th {\n",
       "        text-align: right;\n",
       "    }\n",
       "</style>\n",
       "<table border=\"1\" class=\"dataframe\">\n",
       "  <thead>\n",
       "    <tr style=\"text-align: right;\">\n",
       "      <th></th>\n",
       "      <th>Key</th>\n",
       "      <th>WO</th>\n",
       "      <th>ELGD</th>\n",
       "      <th>LEVERAGE_RATIO</th>\n",
       "      <th>BAL_SHEET_TYPE</th>\n",
       "      <th>CUSTOMER_LOCATION</th>\n",
       "      <th>SEC_CATEGORY</th>\n",
       "      <th>LOAN_TO_SEC_RATIO</th>\n",
       "      <th>LTV_Group</th>\n",
       "      <th>RISK_SCORE</th>\n",
       "      <th>...</th>\n",
       "      <th>EQ_PER</th>\n",
       "      <th>RE_QT_PER</th>\n",
       "      <th>LGD_ENTCODE</th>\n",
       "      <th>LOANPURPOSE50</th>\n",
       "      <th>DEBT_SERV_COV_RATIO</th>\n",
       "      <th>TOT_PRIORS_PER_SEC</th>\n",
       "      <th>DEFAULT_CAL_YEAR</th>\n",
       "      <th>PWOD_PERCENTAGE</th>\n",
       "      <th>ELWO_PERCENTAGE</th>\n",
       "      <th>Model_LGD</th>\n",
       "    </tr>\n",
       "  </thead>\n",
       "  <tbody>\n",
       "    <tr>\n",
       "      <th>count</th>\n",
       "      <td>7264.00000</td>\n",
       "      <td>7264.000000</td>\n",
       "      <td>7264.000000</td>\n",
       "      <td>7264.000000</td>\n",
       "      <td>7264.000000</td>\n",
       "      <td>7261</td>\n",
       "      <td>7264</td>\n",
       "      <td>7264.000000</td>\n",
       "      <td>7264</td>\n",
       "      <td>7264.000000</td>\n",
       "      <td>...</td>\n",
       "      <td>7264.000000</td>\n",
       "      <td>7264.000000</td>\n",
       "      <td>7264</td>\n",
       "      <td>7264</td>\n",
       "      <td>7264.000000</td>\n",
       "      <td>7264.000000</td>\n",
       "      <td>7264.000000</td>\n",
       "      <td>7264.000000</td>\n",
       "      <td>7264.000000</td>\n",
       "      <td>7264.000000</td>\n",
       "    </tr>\n",
       "    <tr>\n",
       "      <th>unique</th>\n",
       "      <td>NaN</td>\n",
       "      <td>NaN</td>\n",
       "      <td>NaN</td>\n",
       "      <td>NaN</td>\n",
       "      <td>NaN</td>\n",
       "      <td>19</td>\n",
       "      <td>2</td>\n",
       "      <td>NaN</td>\n",
       "      <td>4</td>\n",
       "      <td>NaN</td>\n",
       "      <td>...</td>\n",
       "      <td>NaN</td>\n",
       "      <td>NaN</td>\n",
       "      <td>10</td>\n",
       "      <td>9</td>\n",
       "      <td>NaN</td>\n",
       "      <td>NaN</td>\n",
       "      <td>NaN</td>\n",
       "      <td>NaN</td>\n",
       "      <td>NaN</td>\n",
       "      <td>NaN</td>\n",
       "    </tr>\n",
       "    <tr>\n",
       "      <th>top</th>\n",
       "      <td>NaN</td>\n",
       "      <td>NaN</td>\n",
       "      <td>NaN</td>\n",
       "      <td>NaN</td>\n",
       "      <td>NaN</td>\n",
       "      <td>SK</td>\n",
       "      <td>RPL</td>\n",
       "      <td>NaN</td>\n",
       "      <td>Less than 0.5</td>\n",
       "      <td>NaN</td>\n",
       "      <td>...</td>\n",
       "      <td>NaN</td>\n",
       "      <td>NaN</td>\n",
       "      <td>Crops</td>\n",
       "      <td>Equipment</td>\n",
       "      <td>NaN</td>\n",
       "      <td>NaN</td>\n",
       "      <td>NaN</td>\n",
       "      <td>NaN</td>\n",
       "      <td>NaN</td>\n",
       "      <td>NaN</td>\n",
       "    </tr>\n",
       "    <tr>\n",
       "      <th>freq</th>\n",
       "      <td>NaN</td>\n",
       "      <td>NaN</td>\n",
       "      <td>NaN</td>\n",
       "      <td>NaN</td>\n",
       "      <td>NaN</td>\n",
       "      <td>2125</td>\n",
       "      <td>4191</td>\n",
       "      <td>NaN</td>\n",
       "      <td>3270</td>\n",
       "      <td>NaN</td>\n",
       "      <td>...</td>\n",
       "      <td>NaN</td>\n",
       "      <td>NaN</td>\n",
       "      <td>3089</td>\n",
       "      <td>2134</td>\n",
       "      <td>NaN</td>\n",
       "      <td>NaN</td>\n",
       "      <td>NaN</td>\n",
       "      <td>NaN</td>\n",
       "      <td>NaN</td>\n",
       "      <td>NaN</td>\n",
       "    </tr>\n",
       "    <tr>\n",
       "      <th>mean</th>\n",
       "      <td>3631.50000</td>\n",
       "      <td>0.175661</td>\n",
       "      <td>0.083540</td>\n",
       "      <td>8.683309</td>\n",
       "      <td>2.232379</td>\n",
       "      <td>NaN</td>\n",
       "      <td>NaN</td>\n",
       "      <td>0.548372</td>\n",
       "      <td>NaN</td>\n",
       "      <td>665.871971</td>\n",
       "      <td>...</td>\n",
       "      <td>0.405239</td>\n",
       "      <td>0.545339</td>\n",
       "      <td>NaN</td>\n",
       "      <td>NaN</td>\n",
       "      <td>31.484711</td>\n",
       "      <td>0.173321</td>\n",
       "      <td>2006.517070</td>\n",
       "      <td>0.175881</td>\n",
       "      <td>0.433257</td>\n",
       "      <td>0.091305</td>\n",
       "    </tr>\n",
       "    <tr>\n",
       "      <th>std</th>\n",
       "      <td>2097.08051</td>\n",
       "      <td>0.380558</td>\n",
       "      <td>0.247421</td>\n",
       "      <td>25.738470</td>\n",
       "      <td>1.585063</td>\n",
       "      <td>NaN</td>\n",
       "      <td>NaN</td>\n",
       "      <td>0.360633</td>\n",
       "      <td>NaN</td>\n",
       "      <td>93.404548</td>\n",
       "      <td>...</td>\n",
       "      <td>0.471273</td>\n",
       "      <td>0.478553</td>\n",
       "      <td>NaN</td>\n",
       "      <td>NaN</td>\n",
       "      <td>45.216560</td>\n",
       "      <td>1.901213</td>\n",
       "      <td>2.259128</td>\n",
       "      <td>0.169237</td>\n",
       "      <td>0.189180</td>\n",
       "      <td>0.119236</td>\n",
       "    </tr>\n",
       "    <tr>\n",
       "      <th>min</th>\n",
       "      <td>0.00000</td>\n",
       "      <td>0.000000</td>\n",
       "      <td>0.000000</td>\n",
       "      <td>0.000000</td>\n",
       "      <td>1.000000</td>\n",
       "      <td>NaN</td>\n",
       "      <td>NaN</td>\n",
       "      <td>-0.012000</td>\n",
       "      <td>NaN</td>\n",
       "      <td>402.000000</td>\n",
       "      <td>...</td>\n",
       "      <td>0.000000</td>\n",
       "      <td>0.000000</td>\n",
       "      <td>NaN</td>\n",
       "      <td>NaN</td>\n",
       "      <td>0.000000</td>\n",
       "      <td>0.000000</td>\n",
       "      <td>2003.000000</td>\n",
       "      <td>0.025000</td>\n",
       "      <td>0.100000</td>\n",
       "      <td>0.002500</td>\n",
       "    </tr>\n",
       "    <tr>\n",
       "      <th>25%</th>\n",
       "      <td>1815.75000</td>\n",
       "      <td>0.000000</td>\n",
       "      <td>0.000000</td>\n",
       "      <td>0.430000</td>\n",
       "      <td>2.000000</td>\n",
       "      <td>NaN</td>\n",
       "      <td>NaN</td>\n",
       "      <td>0.317000</td>\n",
       "      <td>NaN</td>\n",
       "      <td>596.000000</td>\n",
       "      <td>...</td>\n",
       "      <td>0.000000</td>\n",
       "      <td>0.000000</td>\n",
       "      <td>NaN</td>\n",
       "      <td>NaN</td>\n",
       "      <td>1.040000</td>\n",
       "      <td>0.000000</td>\n",
       "      <td>2005.000000</td>\n",
       "      <td>0.050000</td>\n",
       "      <td>0.200000</td>\n",
       "      <td>0.020000</td>\n",
       "    </tr>\n",
       "    <tr>\n",
       "      <th>50%</th>\n",
       "      <td>3631.50000</td>\n",
       "      <td>0.000000</td>\n",
       "      <td>0.000000</td>\n",
       "      <td>0.820000</td>\n",
       "      <td>2.000000</td>\n",
       "      <td>NaN</td>\n",
       "      <td>NaN</td>\n",
       "      <td>0.536000</td>\n",
       "      <td>NaN</td>\n",
       "      <td>670.000000</td>\n",
       "      <td>...</td>\n",
       "      <td>0.000000</td>\n",
       "      <td>0.856550</td>\n",
       "      <td>NaN</td>\n",
       "      <td>NaN</td>\n",
       "      <td>1.580000</td>\n",
       "      <td>0.000000</td>\n",
       "      <td>2006.000000</td>\n",
       "      <td>0.100000</td>\n",
       "      <td>0.500000</td>\n",
       "      <td>0.050000</td>\n",
       "    </tr>\n",
       "    <tr>\n",
       "      <th>75%</th>\n",
       "      <td>5447.25000</td>\n",
       "      <td>0.000000</td>\n",
       "      <td>0.000000</td>\n",
       "      <td>1.770000</td>\n",
       "      <td>2.000000</td>\n",
       "      <td>NaN</td>\n",
       "      <td>NaN</td>\n",
       "      <td>0.716000</td>\n",
       "      <td>NaN</td>\n",
       "      <td>739.000000</td>\n",
       "      <td>...</td>\n",
       "      <td>1.000000</td>\n",
       "      <td>1.000000</td>\n",
       "      <td>NaN</td>\n",
       "      <td>NaN</td>\n",
       "      <td>100.000000</td>\n",
       "      <td>0.085700</td>\n",
       "      <td>2008.000000</td>\n",
       "      <td>0.150000</td>\n",
       "      <td>0.500000</td>\n",
       "      <td>0.097500</td>\n",
       "    </tr>\n",
       "    <tr>\n",
       "      <th>max</th>\n",
       "      <td>7263.00000</td>\n",
       "      <td>1.000000</td>\n",
       "      <td>1.000000</td>\n",
       "      <td>99.989998</td>\n",
       "      <td>9.000000</td>\n",
       "      <td>NaN</td>\n",
       "      <td>NaN</td>\n",
       "      <td>2.000000</td>\n",
       "      <td>NaN</td>\n",
       "      <td>906.000000</td>\n",
       "      <td>...</td>\n",
       "      <td>1.000000</td>\n",
       "      <td>1.000000</td>\n",
       "      <td>NaN</td>\n",
       "      <td>NaN</td>\n",
       "      <td>100.000000</td>\n",
       "      <td>100.000000</td>\n",
       "      <td>2012.000000</td>\n",
       "      <td>0.700000</td>\n",
       "      <td>0.900000</td>\n",
       "      <td>0.630000</td>\n",
       "    </tr>\n",
       "  </tbody>\n",
       "</table>\n",
       "<p>11 rows × 22 columns</p>\n",
       "</div>"
      ],
      "text/plain": [
       "               Key           WO         ELGD  LEVERAGE_RATIO  BAL_SHEET_TYPE  \\\n",
       "count   7264.00000  7264.000000  7264.000000     7264.000000     7264.000000   \n",
       "unique         NaN          NaN          NaN             NaN             NaN   \n",
       "top            NaN          NaN          NaN             NaN             NaN   \n",
       "freq           NaN          NaN          NaN             NaN             NaN   \n",
       "mean    3631.50000     0.175661     0.083540        8.683309        2.232379   \n",
       "std     2097.08051     0.380558     0.247421       25.738470        1.585063   \n",
       "min        0.00000     0.000000     0.000000        0.000000        1.000000   \n",
       "25%     1815.75000     0.000000     0.000000        0.430000        2.000000   \n",
       "50%     3631.50000     0.000000     0.000000        0.820000        2.000000   \n",
       "75%     5447.25000     0.000000     0.000000        1.770000        2.000000   \n",
       "max     7263.00000     1.000000     1.000000       99.989998        9.000000   \n",
       "\n",
       "       CUSTOMER_LOCATION SEC_CATEGORY  LOAN_TO_SEC_RATIO      LTV_Group  \\\n",
       "count               7261         7264        7264.000000           7264   \n",
       "unique                19            2                NaN              4   \n",
       "top                   SK          RPL                NaN  Less than 0.5   \n",
       "freq                2125         4191                NaN           3270   \n",
       "mean                 NaN          NaN           0.548372            NaN   \n",
       "std                  NaN          NaN           0.360633            NaN   \n",
       "min                  NaN          NaN          -0.012000            NaN   \n",
       "25%                  NaN          NaN           0.317000            NaN   \n",
       "50%                  NaN          NaN           0.536000            NaN   \n",
       "75%                  NaN          NaN           0.716000            NaN   \n",
       "max                  NaN          NaN           2.000000            NaN   \n",
       "\n",
       "         RISK_SCORE  ...       EQ_PER    RE_QT_PER  LGD_ENTCODE  \\\n",
       "count   7264.000000  ...  7264.000000  7264.000000         7264   \n",
       "unique          NaN  ...          NaN          NaN           10   \n",
       "top             NaN  ...          NaN          NaN        Crops   \n",
       "freq            NaN  ...          NaN          NaN         3089   \n",
       "mean     665.871971  ...     0.405239     0.545339          NaN   \n",
       "std       93.404548  ...     0.471273     0.478553          NaN   \n",
       "min      402.000000  ...     0.000000     0.000000          NaN   \n",
       "25%      596.000000  ...     0.000000     0.000000          NaN   \n",
       "50%      670.000000  ...     0.000000     0.856550          NaN   \n",
       "75%      739.000000  ...     1.000000     1.000000          NaN   \n",
       "max      906.000000  ...     1.000000     1.000000          NaN   \n",
       "\n",
       "        LOANPURPOSE50 DEBT_SERV_COV_RATIO TOT_PRIORS_PER_SEC  \\\n",
       "count            7264         7264.000000        7264.000000   \n",
       "unique              9                 NaN                NaN   \n",
       "top         Equipment                 NaN                NaN   \n",
       "freq             2134                 NaN                NaN   \n",
       "mean              NaN           31.484711           0.173321   \n",
       "std               NaN           45.216560           1.901213   \n",
       "min               NaN            0.000000           0.000000   \n",
       "25%               NaN            1.040000           0.000000   \n",
       "50%               NaN            1.580000           0.000000   \n",
       "75%               NaN          100.000000           0.085700   \n",
       "max               NaN          100.000000         100.000000   \n",
       "\n",
       "        DEFAULT_CAL_YEAR  PWOD_PERCENTAGE  ELWO_PERCENTAGE    Model_LGD  \n",
       "count        7264.000000      7264.000000      7264.000000  7264.000000  \n",
       "unique               NaN              NaN              NaN          NaN  \n",
       "top                  NaN              NaN              NaN          NaN  \n",
       "freq                 NaN              NaN              NaN          NaN  \n",
       "mean         2006.517070         0.175881         0.433257     0.091305  \n",
       "std             2.259128         0.169237         0.189180     0.119236  \n",
       "min          2003.000000         0.025000         0.100000     0.002500  \n",
       "25%          2005.000000         0.050000         0.200000     0.020000  \n",
       "50%          2006.000000         0.100000         0.500000     0.050000  \n",
       "75%          2008.000000         0.150000         0.500000     0.097500  \n",
       "max          2012.000000         0.700000         0.900000     0.630000  \n",
       "\n",
       "[11 rows x 22 columns]"
      ]
     },
     "execution_count": 5,
     "metadata": {},
     "output_type": "execute_result"
    }
   ],
   "source": [
    "import pandas as pd\n",
    "import numpy as np\n",
    "\n",
    "data = pd.read_excel (r'C:\\Users\\kehlera\\OneDrive - FCC-FAC\\PMDS\\LGD_Data.xlsx', dtype={'ELGD': np.float32,\n",
    "                                                                                        'LEVERAGE_RATIO': np.float32,\n",
    "                                                                                       'LOAN_TO_SEC_RATIO': np.float32,\n",
    "                                                                                       'EAD': np.float32, 'EQ_PER': np.float32,\n",
    "                                                                                       'RE_QT_PER': np.float32,\n",
    "                                                                                       'DEBT_SERV_COV_RATIO': np.float32,\n",
    "                                                                                       'TOT_PRIORS_PER_SEC': np.float32,\n",
    "                                                                                       'PWOD_PERCENTAGE': np.float32,\n",
    "                                                                                       'ELWO_PERCENTAGE': np.float32,\n",
    "                                                                                       'Model_LGD': np.float32})\n",
    "data.describe(include='all')"
   ]
  },
  {
   "cell_type": "markdown",
   "metadata": {},
   "source": [
    "NOTE: Some of the column headings are self-explanatory, however, others are a bit more cryptic. Rather than define each variable at this point, I will define them as I go if they end up being used."
   ]
  },
  {
   "cell_type": "markdown",
   "metadata": {},
   "source": [
    "#### 4.1.1 Observed LGD Distribution\n",
    "One variable I will mention right from the start is the column called \"ELGD\", which stands for \"Experienced Loss Given Default\". That is, it represents the observed LGDs from 2002 to 2012. I will use ELGD, LGD, and observed LGD interchangeably. This will act as the key variable that ultimately requires predicting. Before diving into the modelling, I think it is useful to look at this variable and its distribution.\n",
    "\n",
    "From the dataframe description table above, we know the mean of LGD is 0.08354. This implies that, on average, if a loan defaults we can expect to lose 8.354% of the value of the remaining loan balance. The standard deviation is approximately 3-times the mean. Given this variability, it is worth exploring the whole distribution to see if the mean is an accurate representation of the variable."
   ]
  },
  {
   "cell_type": "code",
   "execution_count": 6,
   "metadata": {},
   "outputs": [
    {
     "data": {
      "image/png": "[encoded data removed]",
      "text/plain": [
       "<Figure size 864x360 with 1 Axes>"
      ]
     },
     "metadata": {
      "needs_background": "light"
     },
     "output_type": "display_data"
    }
   ],
   "source": [
    "import matplotlib.pyplot as plt\n",
    "\n",
    "LGD = round(data['ELGD'],2)\n",
    "num_bins = 20\n",
    "fig, ax = plt.subplots(1, 1, figsize = (12,5))\n",
    "\n",
    "ax.hist(LGD, bins=num_bins)\n",
    "ax.set_xlabel('Observed LGD')\n",
    "ax.set_ylabel('Counts')\n",
    "ax.set_title(r'Histogram of observed LGD from 2002-2012')\n",
    "plt.show()"
   ]
  },
  {
   "cell_type": "markdown",
   "metadata": {},
   "source": [
    "As you can see, the mass of the observed LGD falls right near 0, with a fairly uniformly small representation between 0.05 and 0.95, and a small mass near 1. From the dataframe description table above, it shows that the 75th percentile for ELGD is 0. In fact, we can use the \"percentileofscore\" function from scipy stats to see what portion of the observed LGD are approximately 0. Based on the output of the code below, 85% of the LGDs are less than 0.01%. Given this, I don't feel the mean of 8.354% is very representative. In reality, this is due to most LGDs being 0 (or almost 0) and a small mass near 1 pulling the mean away from 0. This bimodal behavior makes LGD notoriously difficult to model."
   ]
  },
  {
   "cell_type": "code",
   "execution_count": 7,
   "metadata": {},
   "outputs": [
    {
     "name": "stdout",
     "output_type": "stream",
     "text": [
      "85.0\n"
     ]
    }
   ],
   "source": [
    "from scipy import stats\n",
    "\n",
    "print(round(stats.percentileofscore(LGD,0.0001),0))"
   ]
  },
  {
   "cell_type": "markdown",
   "metadata": {},
   "source": [
    "#### 4.1.2 LGD and Loan-to-Value (LTV)\n",
    "Intuition (and experience) tells us that if a loan is secured using collateral, the risk of losses should be mitigated. This is because, in the event of default, the security can often be sold to help repay the loan. Extending this intuition, loans with more collateral should mitigate this risk more than loans with less collateral (all else being equal). A common ratio in the industry for measuring this is \"loan-to-value\" or LTV. This is the value of the loan divided by the value of the asset that is securing the loan. \n",
    "\n",
    "Given the type of lending my organization tends to do, our loans typically have \"good\" LTVs. That said, there is certainly variability in the LTVs of each loan depending on the purpose of the loan and many other factors that weigh into our customer's financing needs.\n",
    "\n",
    "Splitting the data set into 4-categories of varying levels of LTVs helps to further illustrate the bimodal pattern described above. The code below groups the LGDs into 4 groups based on the following LTV ranges: Unsecured (LTV above 1.45), High (LTV between 0.8 to 1.45), Normal (LTV between 0.5 to 0.8), and Low (LTV less than 0.5). These ranges are in part created based on business reasons (i.e. 80% is a specific policy number) and in part from exploring the data."
   ]
  },
  {
   "cell_type": "code",
   "execution_count": 8,
   "metadata": {},
   "outputs": [
    {
     "data": {
      "image/png": "[encoded data removed]",
      "text/plain": [
       "<Figure size 1080x576 with 4 Axes>"
      ]
     },
     "metadata": {
      "needs_background": "light"
     },
     "output_type": "display_data"
    },
    {
     "name": "stdout",
     "output_type": "stream",
     "text": [
      "Mean LGD:\n",
      "Unsecured LGD = 0.41\n",
      "High LTV LGD = 0.16\n",
      "Normal LTV LGD = 0.08\n",
      "Low LTV LGD = 0.04\n"
     ]
    }
   ],
   "source": [
    "import statistics as s\n",
    "\n",
    "Unsecured_LTV = round(data['ELGD'][data.LTV_Group.eq('Above 1.45')],2)\n",
    "High_LTV = round(data['ELGD'][data.LTV_Group.eq('0.8 to 1.45')],2)\n",
    "Normal_LTV = round(data['ELGD'][data.LTV_Group.eq('0.5 to 0.8')],2)\n",
    "Low_LTV = round(data['ELGD'][data.LTV_Group.eq('Less than 0.5')],2)\n",
    "\n",
    "fig, axs = plt.subplots(2, 2, figsize = (15,8))\n",
    "\n",
    "axs[0][0].hist(Unsecured_LTV, bins=num_bins)\n",
    "axs[0][1].hist(High_LTV, bins=num_bins)\n",
    "axs[1][0].hist(Normal_LTV, bins=num_bins)\n",
    "axs[1][1].hist(Low_LTV, bins=num_bins)\n",
    "axs[0][0].set_title(r'Unsecured LGD')\n",
    "axs[0][1].set_title(r'High LTV LGD')\n",
    "axs[1][0].set_title(r'Normal LTV LGD')\n",
    "axs[1][1].set_title(r'Low LTV LGD')\n",
    "plt.show()\n",
    "\n",
    "print('Mean LGD:')\n",
    "print('Unsecured LGD =',round(s.mean(Unsecured_LTV),2))\n",
    "print('High LTV LGD =',round(s.mean(High_LTV),2))\n",
    "print('Normal LTV LGD =',round(s.mean(Normal_LTV),2))\n",
    "print('Low LTV LGD =',round(s.mean(Low_LTV),2))"
   ]
  },
  {
   "cell_type": "markdown",
   "metadata": {},
   "source": [
    "Comparing the 4 histograms above, it is clear that the bimodal pattern exists for each group, but is more pronounced for the high LTV and Unsecured group. The list of means for each group also highlights how much more the mass near 1 pulls the mean away from the mass near 0 for the High LTV and Unsecured group. It should also be noticeable from the y-axis marks that there are less counts of default incidents as we move into the High LTV and Unsecured groups. This is because those high LTVs are quite a bit more rare within our typical portfolio.\n",
    "\n",
    "This relationship between LTV and LGD will be kept top-of-mind while moving through the rest of the analysis. LTV will be included as a key variable and other variables will be brought in to see if a sufficiently explanatory model can be developed."
   ]
  },
  {
   "cell_type": "markdown",
   "metadata": {},
   "source": [
    "### 4.2 Random LGD Generator\n",
    "Not initially in scope of this project but useful nonetheless is a random LGD generator that captures the relationships described above. This is useful when running portfolio simuations to understand the tail risk associated with the portfolio. My organization doesn't currently have a model for this, so I am choosing to scope it in to this project. It will be used to enhance our abilities to simulate a portfolio loss distribution used in a key risk process at the organization.\n",
    "\n",
    "A common approach in the industry is to fit a Beta distribution to the data and generate Beta random variables to represent simulted LGDs. Given the bimodal nature of our LGD model described above, I am opting for a more customized / algorithmic approach that will better capture the likelihood of seeing LGDs equal to 0 AND 1.\n",
    "\n",
    "#### 4.2.1 Random LGD Algorithm\n",
    "The \"algorithm\" for the generator will be as follows:\n",
    "1. Generate an LTV ratio for many \"fake\" loans (in this case, the same number as there were loans in the original data set, for camparison purposes). For comparison purposes, I will also force the number loans in each LTV group to be the same as the original data. Note - In application this would be applied to a known portfolio of loans, so this first simuation step would not be needed.\n",
    "2. Set an upper and lower threshold probability for each LTV group.\n",
    "    1. The lower threshold will be the proportion of loans in the lowest bin (of 20).\n",
    "    2. The upper threshold will be 1 minus the proportion of loans in the highest bin (of 20).\n",
    "3. Randomly generated a uniform(0,1) variable for each loan.\n",
    "4. For each loan, compare that uniform(0,1) random variable to the thresholds for its respectively LTV group.\n",
    "    1. If it is below the lower threshold, set the simulated LGD as the min LGD value (defined as 1%).\n",
    "    2. If above the upper threshold, consider it a \"total loss\" (i.e. set the LGD to 100%).\n",
    "    3. If it is between the thresholds, generate a uniform(1%,100%) random variable to be the LGD.\n",
    "\n",
    "#### 4.2.2 The Random LGD Generator Code\n",
    "The code below operationalizes the algorthim above. After generating many simulated LGDs, I will compare back against the original distributions to see how they compare."
   ]
  },
  {
   "cell_type": "code",
   "execution_count": 9,
   "metadata": {},
   "outputs": [],
   "source": [
    "# Random LGD generator\n",
    "\n",
    "import numpy as np\n",
    "np.random.seed(12345)\n",
    "n = len(LGD)\n",
    "Grouping_rands = np.random.uniform(0, 1, n)\n",
    "Perc_unsecured = len(Unsecured_LTV) / len(LGD)\n",
    "Perc_high = len(High_LTV) / len(LGD)\n",
    "Perc_normal = len(Normal_LTV) / len(LGD)\n",
    "Perc_low = len(Low_LTV) / len(LGD)\n",
    "\n",
    "Count_unsecured = int(round(n * Perc_unsecured,0))\n",
    "Count_high = int(round(n * Perc_high,0))\n",
    "Count_normal = int(round(n * Perc_normal,0))\n",
    "Count_low = int(n - (Count_unsecured + Count_high + Count_normal))\n",
    "\n",
    "Temp1 = np.append(np.random.uniform(1.45,99,Count_unsecured), np.random.uniform(0.80,1.45,Count_high))\n",
    "Temp2 = np.append(np.random.uniform(0.50,0.80,Count_normal), np.random.uniform(0,0.50,Count_low))\n",
    "LTVs = np.append(Temp1, Temp2)\n",
    "\n",
    "Min_LGD = .01  # Setting minimum LGD as 1% based on discounting the recovery value (i.e. time-value of money)\n",
    "\n",
    "Unsecured_threshold_low = axs[0][0].hist(Unsecured_LTV, bins=num_bins)[0][0] / len(Unsecured_LTV)\n",
    "Unsecured_threshold_high = 1 - axs[0][0].hist(Unsecured_LTV, bins=num_bins)[0][-1] / len(Unsecured_LTV)\n",
    "High_threshold_low = axs[0][0].hist(High_LTV, bins=num_bins)[0][0] / len(High_LTV)\n",
    "High_threshold_high = 1 - axs[0][0].hist(High_LTV, bins=num_bins)[0][-1] / len(High_LTV)\n",
    "Normal_threshold_low = axs[0][0].hist(Normal_LTV, bins=num_bins)[0][0] / len(Normal_LTV)\n",
    "Normal_threshold_high = 1 - axs[0][0].hist(Normal_LTV, bins=num_bins)[0][-1] / len(Normal_LTV)\n",
    "Low_threshold_low = axs[0][0].hist(Low_LTV, bins=num_bins)[0][0] / len(Low_LTV)\n",
    "Low_threshold_high = 1 - axs[0][0].hist(Low_LTV, bins=num_bins)[0][-1] / len(Low_LTV)\n",
    "\n",
    "LGDs = np.zeros(n)\n",
    "for i in range(len(LTVs)):\n",
    "    if LTVs[i] >= 1.45:\n",
    "        if Grouping_rands[i] < Unsecured_threshold_low:\n",
    "            LGDs[i] = Min_LGD\n",
    "        elif Grouping_rands[i] > Unsecured_threshold_high:\n",
    "            LGDs[i] = 1\n",
    "        else: LGDs[i] = np.random.uniform(Min_LGD,1,1)\n",
    "    elif 0.8 <= LTVs[i] < 1.45:\n",
    "        if Grouping_rands[i] < High_threshold_low:\n",
    "            LGDs[i] = Min_LGD\n",
    "        elif Grouping_rands[i] > High_threshold_high:\n",
    "            LGDs[i] = 1\n",
    "        else: LGDs[i] = np.random.uniform(Min_LGD,1,1)\n",
    "    elif 0.5 <= LTVs[i] < 0.8:\n",
    "        if Grouping_rands[i] < Normal_threshold_low:\n",
    "            LGDs[i] = Min_LGD\n",
    "        elif Grouping_rands[i] > Normal_threshold_high:\n",
    "            LGDs[i] = 1\n",
    "        else: LGDs[i] = np.random.uniform(Min_LGD,1,1)\n",
    "    else:\n",
    "        if Grouping_rands[i] < Low_threshold_low:\n",
    "            LGDs[i] = Min_LGD\n",
    "        elif Grouping_rands[i] > Low_threshold_high:\n",
    "            LGDs[i] = 1\n",
    "        else: LGDs[i] = np.random.uniform(Min_LGD,1,1)"
   ]
  },
  {
   "cell_type": "markdown",
   "metadata": {},
   "source": [
    "#### 4.2.3 Comparing simulated LGDs to original LGDs\n",
    "The following section uses histograms and certain statistical measures to compared the simulated LGDs (from the LGD generator) to the original LGD data."
   ]
  },
  {
   "cell_type": "code",
   "execution_count": 11,
   "metadata": {},
   "outputs": [
    {
     "data": {
      "image/png": "[encoded data removed]",
      "text/plain": [
       "<Figure size 864x360 with 2 Axes>"
      ]
     },
     "metadata": {
      "needs_background": "light"
     },
     "output_type": "display_data"
    }
   ],
   "source": [
    "# Overall histogram of simulated LGDs compared to original LGDs\n",
    "\n",
    "fig, axs1 = plt.subplots(1, 2, tight_layout=True, figsize = (12,5))\n",
    "\n",
    "axs1[0].hist(LGDs, bins=num_bins)\n",
    "axs1[1].hist(LGD, bins=num_bins)\n",
    "axs1[0].set_title(r'Simulated LGDs')\n",
    "axs1[1].set_title(r'Original LGDs')\n",
    "\n",
    "plt.show()"
   ]
  },
  {
   "cell_type": "markdown",
   "metadata": {},
   "source": [
    "From the visual above, the aggregate comparison looks appropriate. Let's also verify that it looks appropriate for each of the four LTV groups."
   ]
  },
  {
   "cell_type": "code",
   "execution_count": 31,
   "metadata": {},
   "outputs": [
    {
     "data": {
      "image/png": "[encoded data removed]",
      "text/plain": [
       "<Figure size 864x864 with 8 Axes>"
      ]
     },
     "metadata": {
      "needs_background": "light"
     },
     "output_type": "display_data"
    },
    {
     "name": "stdout",
     "output_type": "stream",
     "text": [
      "Compare means for simulated LGDs to original data:\n",
      "Unsecured LGD (simulated) = 0.47 , compared to original: 0.41\n",
      "High LTV LGD (simulated) = 0.18 , compared to original: 0.16\n",
      "Normal LTV LGD (simulated) = 0.09 , compared to original: 0.08\n",
      "Low LTV LGD (simulated) = 0.06 , compared to original: 0.04\n"
     ]
    }
   ],
   "source": [
    "# Histograms comparing simulated LGDs to original LGDs for each of the LTV groups\n",
    "\n",
    "Unsecured_LGDs = [LGDs[i] for i in range(len(LGDs)) if LTVs[i]>=1.45]\n",
    "High_LGDs = [LGDs[i] for i in range(len(LGDs)) if 0.8 <= LTVs[i] < 1.45]\n",
    "Normal_LGDs = [LGDs[i] for i in range(len(LGDs)) if 0.5 <= LTVs[i] < 0.8]\n",
    "Low_LGDs = [LGDs[i] for i in range(len(LGDs)) if 0 <= LTVs[i] < 0.5]\n",
    "\n",
    "fig, axs2 = plt.subplots(4, 2, tight_layout=True, figsize = (12,12))\n",
    "\n",
    "axs2[0][0].hist(Unsecured_LGDs, bins=num_bins)\n",
    "axs2[0][1].hist(Unsecured_LTV, bins=num_bins)\n",
    "axs2[1][0].hist(High_LGDs, bins=num_bins)\n",
    "axs2[1][1].hist(High_LTV, bins=num_bins)\n",
    "axs2[2][0].hist(Normal_LGDs, bins=num_bins)\n",
    "axs2[2][1].hist(Normal_LTV, bins=num_bins)\n",
    "axs2[3][0].hist(Low_LGDs, bins=num_bins)\n",
    "axs2[3][1].hist(Low_LTV, bins=num_bins)\n",
    "axs2[0][0].set_title(r'Unsecured LGD (simulated)')\n",
    "axs2[0][1].set_title(r'Unsecured LGD (original)')\n",
    "axs2[1][0].set_title(r'High LTV LGD (simulated)')\n",
    "axs2[1][1].set_title(r'High LTV LGD (original)')\n",
    "axs2[2][0].set_title(r'Normal LTV LGD (simulated)')\n",
    "axs2[2][1].set_title(r'Normal LTV LGD (original)')\n",
    "axs2[3][0].set_title(r'Low LTV LGD (simulated)')\n",
    "axs2[3][1].set_title(r'Low LTV LGD (Original)')\n",
    "plt.show()\n",
    "\n",
    "print('Compare means for simulated LGDs to original data:')\n",
    "print('Unsecured LGD (simulated) =',round(s.mean(Unsecured_LGDs),2),', compared to original:',round(s.mean(Unsecured_LTV),2))\n",
    "print('High LTV LGD (simulated) =',round(s.mean(High_LGDs),2),', compared to original:',round(s.mean(High_LTV),2))\n",
    "print('Normal LTV LGD (simulated) =',round(s.mean(Normal_LGDs),2),', compared to original:',round(s.mean(Normal_LTV),2))\n",
    "print('Low LTV LGD (simulated) =',round(s.mean(Low_LGDs),2),', compared to original:',round(s.mean(Low_LTV),2))\n"
   ]
  },
  {
   "cell_type": "markdown",
   "metadata": {},
   "source": [
    "Comparing the simulated distributions for each LTV group to the original looks good as well. At least visually, which is sufficient for our purposes at this point.\n",
    "<br/>\n",
    "\n",
    "#### 4.2.4 Portfolio-level versus loan-level\n",
    "It is important to note that these comparisons are being done on the distribution and not at the individual loan level. For example, if we were to run the LGD simulation on the original loans and then compare the simulated LGD to the actual LGD (as opposed to generating our own set of simulated loans), we would find the results likely not that accurate at the loan-level (we will test this later though). The simulated amount would be close some times, lower others, and higher other times yet - but on average would come out pretty close. There are certain analyses and exercises we do that only require us to be accurate at the group or portfolio level, but not at the loan-level. This simulation approach is appropriate for those situations.\n",
    "\n",
    "Other times, however, loan-level accuracy is quite important. We could either extend the simulation technique above to try to do this or try other techniques. I will move forward and try other techniques.\n",
    "\n",
    "<br/>\n"
   ]
  },
  {
   "cell_type": "markdown",
   "metadata": {},
   "source": [
    "### 4.3 Two-step LGD Model\n",
    "Another benefit to having thought through the LGD simulation is that it highlights the importance of a model being able to sufficiently discriminate between a) no loss (i.e. LGD ~= 0), b) full loss (i.e. LGD ~= 1), or c) something in between. This is a key reason that the current LGD model in production at my organization uses a two-step approach. It first models the likelihood of a binary outcome (0 - no loss or 1 - some amount of loss). Then, it models the expected severity of the loss given that some loss amount happens (i.e. first step is a 1). It then makes the assumption that the likelihood and severity are independent random variables, and therefore can accurately be jointly represented by their product.\n",
    "\n",
    "#### 4.3.1 Step-1 of two-step model\n",
    "Before attempting to model it in one-step with machine learning techniques, I want to also try a two-step approach. However, rather than a binary first step, I want a trinary first-step: 0 - no loss, 1 - partial loss, 2 - full loss. The step-two conditional expected loss could then be calculated a couple ways: 1)probability weighted average for partial loss and full loss; or 2) a separate value / function applied to each category resulting from step 1.\n",
    "\n",
    "**Data preparation -**\n",
    "Defined this way, the scikit-learn Random Forest algorithm can be used for our multi-class classification. But first, I need to prepare the data for the Random Forest algorith. Preparing the data includes:\n",
    "* Converting categorical data to dummary variables\n",
    "* Handling missing values (in this case, making them '0')\n",
    "* Creating an \"LGD group\" where 0 is LGDs near 0, 2 is LDGs near 1, and 1 is all other values\n",
    "* Splitting the data into a training and testing set (in this case, 70% training and 30% testing)\n",
    "* Scaling or standardizing the features - not necessarily needed for Random Forest, but will be needed later."
   ]
  },
  {
   "cell_type": "code",
   "execution_count": null,
   "metadata": {},
   "outputs": [],
   "source": [
    "# Prepare date for step-1 Random Forest Classification\n",
    "\n",
    "ddata = pd.get_dummies(data) # convert catagorical data to dummary variables\n",
    "ddata.fillna(0)\n",
    "ddata = ddata.drop(['PWOD_PERCENTAGE', 'ELWO_PERCENTAGE', 'Model_LGD'], axis=1)\n",
    "LGD = ddata['ELGD']\n",
    "\n",
    "LGD_group = np.zeros(len(LGD))\n",
    "\n",
    "for i in range(len(LGD)):\n",
    "    if LGD[i] <= 0.05:\n",
    "        LGD_group[i] = 0\n",
    "    elif LGD[i] >= 0.95:\n",
    "        LGD_group[i] = 2\n",
    "    else: LGD_group[i] = 1\n",
    "\n",
    "LGD_group = pd.DataFrame({'LGD_group': LGD_group})\n",
    "ddata = ddata.join(LGD_group)\n",
    "\n",
    "X = ddata.iloc[ : , 2:-1]\n",
    "y = ddata.iloc[ : , -1]\n",
    "\n",
    "# Use 70/30 train/test split\n",
    "from sklearn.model_selection import train_test_split\n",
    "X_train, X_test, y_train, y_test = train_test_split(X, y, test_size = 0.30, random_state = 21)\n",
    "\n",
    "y_1_train = X_train.iloc[:,0][y_train == 1]\n",
    "y_1_test = X_test.iloc[:,0][y_test == 1]\n",
    "\n",
    "from sklearn.preprocessing import StandardScaler\n",
    "scaler = StandardScaler()\n",
    "X_train = scaler.fit_transform(X_train)\n",
    "X_test = scaler.transform(X_test)"
   ]
  },
  {
   "cell_type": "markdown",
   "metadata": {},
   "source": [
    "**Model Training -** Now that the data is ready, I can train the model."
   ]
  },
  {
   "cell_type": "code",
   "execution_count": 124,
   "metadata": {},
   "outputs": [
    {
     "data": {
      "text/plain": [
       "RandomForestClassifier(bootstrap=True, class_weight=None, criterion='gini',\n",
       "            max_depth=None, max_features='auto', max_leaf_nodes=None,\n",
       "            min_impurity_decrease=0.0, min_impurity_split=None,\n",
       "            min_samples_leaf=1, min_samples_split=2,\n",
       "            min_weight_fraction_leaf=0.0, n_estimators=100, n_jobs=None,\n",
       "            oob_score=False, random_state=16, verbose=0, warm_start=False)"
      ]
     },
     "execution_count": 124,
     "metadata": {},
     "output_type": "execute_result"
    }
   ],
   "source": [
    "# Train Random Forest Classification model\n",
    "\n",
    "from sklearn.ensemble import RandomForestClassifier, RandomForestRegressor\n",
    "\n",
    "classifier = RandomForestClassifier(n_estimators = 100, random_state = 16)\n",
    "classifier.fit(X_train[:,1:], y_train)"
   ]
  },
  {
   "cell_type": "markdown",
   "metadata": {},
   "source": [
    "**Performance check -** With the first step of the 2-step model now fit, it is worth checking the performance at this interim step. Note that the overall performance of the two-step model will be checked at the end. However, it is good to also be checking performance along the way. Given that we plan to probability weight the second model outputs using the classification probabilities from this step, our output of interest is the \"predict_proba\" result from the model. Note, these probabilities will also be used to classify each loan."
   ]
  },
  {
   "cell_type": "code",
   "execution_count": 370,
   "metadata": {},
   "outputs": [
    {
     "name": "stdout",
     "output_type": "stream",
     "text": [
      "Actual frequencies of 0,1,2 :  [0.87, 0.08, 0.05]\n",
      "Mean probabilities of 0,1,2 :  [0.86, 0.09, 0.05]\n"
     ]
    }
   ],
   "source": [
    "# Quick performance check on step-1 model\n",
    "\n",
    "from sklearn.metrics import roc_curve, precision_score, auc, accuracy_score\n",
    "\n",
    "# Predicting the Test set results\n",
    "y_pred = classifier.predict(X_test[:,1:])\n",
    "probs = classifier.predict_proba(X_test[:,1:]) # store classification probabilities for later in Step-2 model\n",
    "\n",
    "mean_probs = np.mean(probs, axis=0)\n",
    "mean_probs = [round(x,2) for x in mean_probs]\n",
    "\n",
    "actual0 = round(len(y_test[y_test==0]) / len(y_test),2)\n",
    "actual1 = round(len(y_test[y_test==1]) / len(y_test),2)\n",
    "actual2 = round(len(y_test[y_test==2]) / len(y_test),2)\n",
    "\n",
    "act_probs = [actual0, actual1, actual2]\n",
    "\n",
    "print('Actual frequencies of 0,1,2 : ',act_probs)\n",
    "print('Mean probabilities of 0,1,2 : ',mean_probs)"
   ]
  },
  {
   "cell_type": "markdown",
   "metadata": {},
   "source": [
    "The two arrays above show the following:\n",
    "1. Actual frequencies of how often our testing loans are in each category (0 - no loss, 1 - partial loss, 2 - full loss)\n",
    "2. Average probability across the test loans based on the model. This is read as the average probability of a loan being classified as a 0 is 86%.\n",
    "\n",
    "The actual frequencies and mean probabilities line-up well on the aggregate. This doesn't guarantee that at the loan level the model does well. This will be tested more closely after the 2nd step of the two-step model is complete. For now, the aggregate result being close is comfort enough to move on."
   ]
  },
  {
   "cell_type": "markdown",
   "metadata": {},
   "source": [
    "**Feature importance -**\n",
    "Also of interest is which of the features are most \"important\" to our step-1 classification / probability model. The code below shows the top 5 features based on the importance rating that is a built-in output of the Random Forest Classification algorithm that was used."
   ]
  },
  {
   "cell_type": "code",
   "execution_count": 187,
   "metadata": {},
   "outputs": [
    {
     "name": "stdout",
     "output_type": "stream",
     "text": [
      "Top 5 variables by importance:\n",
      "Variable: RISK_SCORE           Importance: 0.13\n",
      "Variable: LOAN_TO_SEC_RATIO    Importance: 0.12\n",
      "Variable: EAD                  Importance: 0.11\n",
      "Variable: LEVERAGE_RATIO       Importance: 0.09\n",
      "Variable: DEBT_SERV_COV_RATIO  Importance: 0.07\n"
     ]
    }
   ],
   "source": [
    "# Top 5 freature importance for Random Forest Classification model\n",
    "\n",
    "Model_1_top_features = list(zip(ddata.columns[3: ], classifier.feature_importances_))\n",
    "\n",
    "feature_list = list(X.iloc[:,1:].columns)\n",
    "importances = list(classifier.feature_importances_)\n",
    "\n",
    "feature_importance = [(feature, round(importance, 2)) for feature, importance in zip(feature_list, importances)]\n",
    "feature_importance = sorted(feature_importance, key = lambda x: x[1], reverse = True)\n",
    "print('Top 5 variables by importance:')\n",
    "[print('Variable: {:20} Importance: {}'.format(*pair)) for pair in feature_importance[0:5]];"
   ]
  },
  {
   "cell_type": "markdown",
   "metadata": {},
   "source": [
    "\"RISK_SCORE\" is actually the output of an internal model that is used to rate the risk associated with a given customer. It is promising to see that this score is also an important feature in understanding loss severity classification for customers. Intuitively, we would expect higher risk customers to result in high losses in the event of a default (all else being equal). The next is our LTV that was discussed previously and agian, no surprise that this is an important feature. \"EAD\" is \"exposure at default\" and represents the absolute size of the exposure (i.e. outstanding loan balance) at time of default. \"LEVERAGE_RATIO\" is the amount of leverage a customer has taken on (i.e. their overall debt compared to their assets). \"DEBT_SERV_COV_RATIO\" is a common industry ratio that proxies the ability for a customer to make payments on their debt obligations. All of these features being important is an intuitive result."
   ]
  },
  {
   "cell_type": "markdown",
   "metadata": {},
   "source": [
    "<br/>\n",
    "\n",
    "#### 4.3.2 Step-2 of 2-step model\n",
    "Now that the step-1 model is complete, I can move on to the 2nd step model. This step is meant to estimate the loss % given that a partial loss (i.e. classification 1) has occurred. To prepare the date, I need to isolate the train and test cases that were in LGD_group = 1 (i.e. experienced a partial loss).\n",
    "\n",
    "**Random Forest Regression -**\n",
    "A key difference between this step and the previous is that our output is a continuous variable (as opposed to categorical). Given this, I will first use the Random Forest Regression algorithm rather than the classifier.\n",
    "\n",
    "To put this step into context, it is worth recalling the proportion of loans that are expected to result in a partial loss. Above we showed that the frequency in the test data set was 8%. Therefore, this 2nd-step model won't play a very large role in the overall predicted LGD. However, any additional accuracy that we can find is welcome."
   ]
  },
  {
   "cell_type": "code",
   "execution_count": 186,
   "metadata": {},
   "outputs": [
    {
     "name": "stdout",
     "output_type": "stream",
     "text": [
      "Top 5 variables by importance:\n",
      "Variable: EAD                  Importance: 0.13\n",
      "Variable: LOAN_TO_SEC_RATIO    Importance: 0.11\n",
      "Variable: RISK_SCORE           Importance: 0.11\n",
      "Variable: LEVERAGE_RATIO       Importance: 0.1\n",
      "Variable: DEBT_SERV_COV_RATIO  Importance: 0.09\n"
     ]
    }
   ],
   "source": [
    "# Filter train and test data for those only in LGD group 1. Then fit RF Regressor function and display top 5 importance features.\n",
    "\n",
    "X_1_train = X_train[y_train == 1]\n",
    "X_1_train = X_1_train[:,1:]\n",
    "X_1_test = X_test[y_test == 1]\n",
    "X_1_test = X_1_test[:,1:]\n",
    "\n",
    "regressor = RandomForestRegressor(n_estimators=1000, random_state = 88)\n",
    "regressor.fit(X_1_train,y_1_train)\n",
    "\n",
    "LGD_G1_predict = regressor.predict(X_1_test)\n",
    "\n",
    "feature_list = list(X.iloc[:,1:].columns)\n",
    "importances = list(regressor.feature_importances_)\n",
    "\n",
    "feature_importance = [(feature, round(importance, 2)) for feature, importance in zip(feature_list, importances)]\n",
    "feature_importance = sorted(feature_importance, key = lambda x: x[1], reverse = True)\n",
    "print('Top 5 variables by importance:')\n",
    "[print('Variable: {:20} Importance: {}'.format(*pair)) for pair in feature_importance[0:5]];"
   ]
  },
  {
   "cell_type": "markdown",
   "metadata": {},
   "source": [
    "Not surprisingly, the same top 5 features show up for the regression as with the classification (ordered slightly differently). Below is a quick calculation of \"performance\" for step-2 in isolation. "
   ]
  },
  {
   "cell_type": "code",
   "execution_count": 194,
   "metadata": {},
   "outputs": [
    {
     "name": "stdout",
     "output_type": "stream",
     "text": [
      "Mean Absolute Error: 0.23 degrees.\n",
      "Mean Absolute Percentage Error:  98.72 %.\n"
     ]
    }
   ],
   "source": [
    "RF_errors = abs(LGD_G1_predict - y_1_test)\n",
    "print('Mean Absolute Error:', round(np.mean(RF_errors),2), 'degrees.')\n",
    "RF_mape = 100 * (RF_errors / y_1_test)\n",
    "RF_accuracy = np.mean(RF_mape)\n",
    "print('Mean Absolute Percentage Error: ', round(RF_accuracy,2), '%.')"
   ]
  },
  {
   "cell_type": "markdown",
   "metadata": {},
   "source": [
    "We will return to this performance after trying another approach to the 2nd-step model.\n",
    "\n",
    "**k-NN for step 2 LGD model -**\n",
    "To provide an alternative option, it is worth trying the k nearest neighbors algorithm for the step 2 model as well. This model will rely on the training data to find the nearest neighbors to each of the test cases. "
   ]
  },
  {
   "cell_type": "code",
   "execution_count": 193,
   "metadata": {},
   "outputs": [
    {
     "name": "stdout",
     "output_type": "stream",
     "text": [
      "Mean Absolute Error: 0.23 degrees.\n",
      "Mean Absolute Percentage Error:  90.71 %.\n"
     ]
    }
   ],
   "source": [
    "from sklearn.neighbors import KNeighborsRegressor\n",
    "\n",
    "KNN = KNeighborsRegressor(n_neighbors=7)\n",
    "KNN.fit(X_1_train,y_1_train)\n",
    "\n",
    "LGD_G1_KNN_predict = KNN.predict(X_1_test)\n",
    "\n",
    "KNN_errors = abs(LGD_G1_KNN_predict - y_1_test)\n",
    "print('Mean Absolute Error:', round(np.mean(KNN_errors),2), 'degrees.')\n",
    "KNN_mape = 100 * (KNN_errors / y_1_test)\n",
    "KNN_accuracy = np.mean(KNN_mape)\n",
    "print('Mean Absolute Percentage Error: ', round(KNN_accuracy,2), '%.')"
   ]
  },
  {
   "cell_type": "markdown",
   "metadata": {},
   "source": [
    "**Benchmark performance for second model -**\n",
    "The performance of the two approaches (Random Forest and k-NN) for step-2 of the LGD model isn't great. However, recall that the main reason we are doing the two-step approach is because of the large mass near 0 and the smaller mass near 1. The remaining loans, that we antitipate to fall somewhere in the middle (i.e. partial loss), are fewer in number. This will have a smaller impact on overall performance of the model when we bring the two-steps together. Therefore, for the step-2 model, any performance better than random chance or simply taking the mean of that group is a plus. Below this comparison is checked."
   ]
  },
  {
   "cell_type": "code",
   "execution_count": 198,
   "metadata": {},
   "outputs": [
    {
     "name": "stdout",
     "output_type": "stream",
     "text": [
      "Mean Absolute Error (Random): 0.32 degrees.\n",
      "Mean Absolute Percentage Error (Random):  126.38 %.\n",
      "Mean Absolute Error (Mean): 0.23 degrees.\n",
      "Mean Absolute Percentage Error (Mean):  101.39 %.\n"
     ]
    }
   ],
   "source": [
    "np.random.seed(125)\n",
    "Rand_errors = abs(np.random.uniform(.05,.95,len(y_1_test)) - y_1_test)\n",
    "Rand_mape = np.mean(100 * (Rand_errors / y_1_test))\n",
    "Mean_errors = abs(np.mean(y_1_train) - y_1_test)\n",
    "Mean_mape = np.mean(100 * (Mean_errors / y_1_test))\n",
    "\n",
    "print('Mean Absolute Error (Random):', round(np.mean(Rand_errors),2), 'degrees.')\n",
    "print('Mean Absolute Percentage Error (Random): ', round(Rand_mape,2), '%.')\n",
    "print('Mean Absolute Error (Mean):', round(np.mean(Mean_errors),2), 'degrees.')\n",
    "print('Mean Absolute Percentage Error (Mean): ', round(Mean_mape,2), '%.')"
   ]
  },
  {
   "cell_type": "markdown",
   "metadata": {},
   "source": [
    "The performance on our step-2 model was better than the performance benchmarks above. Technically, the random one should be run many times to get a sense of how much it varies per random run. However, I wouldn't expect it to be better than the case when we apply the conditional mean. Therefore, we will focus on the \"Mean\" benchmark (MAE = 0.23, MAPE=101.39%). Of which, both the step-2 models perform better. Since the performance of the two approaches are comparable, I am opting to use the Random Forest Regression (\"RF Reg\") as it lends well to generalization, intuition for management, and to programing the model into operation (as compared to the k-NN)."
   ]
  },
  {
   "cell_type": "markdown",
   "metadata": {},
   "source": [
    "#### 4.3.3 Putting the two-steps together\n",
    "\n",
    "I will put the two-steps together two different ways:\n",
    "1. If the first-step model (i.e. Random Forest Classification) predicts LGD_Group = 0 (i.e. zero loss), then LGD = 0, if it predicts LGD_Group = 2, then LGD = 1, otherwise use the RF Reg prediction amount (i.e. the step-two model). This will need to be \"optimized\" by adjusting the cut-off values that determine the classification from the step 1 model.\n",
    "2. The other approach will be to probability-weight LGD = {0, RF Reg, 1} using the probabilities for LGD_Group = {0,1,2} that comes from the RF Classification step."
   ]
  },
  {
   "cell_type": "markdown",
   "metadata": {},
   "source": [
    "#### 1st approach - classify then severity\n",
    "This could be done automatically using the \"Classifier.predict\" functionality, for which I set the variable \"y_pred\" in previous code. However, I want the flexibility to adjust the cut-offs that determine when a loan is classified into state 0, 1, or 2. "
   ]
  },
  {
   "cell_type": "code",
   "execution_count": 268,
   "metadata": {},
   "outputs": [
    {
     "name": "stdout",
     "output_type": "stream",
     "text": [
      "Mean Absolute Error (Challenger1): 0.08 degrees.\n",
      "Mean Arctan Absolute Percentage Error (Challenger1):  0.13 %.\n"
     ]
    }
   ],
   "source": [
    "# First approach\n",
    "\n",
    "cut_off_g2 = 0.4\n",
    "cut_off_g1 = 0.45\n",
    "\n",
    "LGD_predict1 = regressor.predict(X_test[:,1:])\n",
    "y_pred1 = np.zeros(len(y_test))\n",
    "New_model_LGDs = np.zeros(len(y_test))\n",
    "\n",
    "for i in range(len(y_test)):\n",
    "    if probs[i][2] >= cut_off_g2:\n",
    "        y_pred1[i] = 2\n",
    "        New_model_LGDs[i] = 1.00\n",
    "    elif probs[i][1] >= cut_off_g1:\n",
    "        y_pred1[i] = 1\n",
    "        New_model_LGDs[i] = round(LGD_predict1[i],4)  \n",
    "    else: \n",
    "        y_pred1[i] = 0\n",
    "        New_model_LGDs[i] = 0.00    # For performance set to 0, but in application set to min LGD (~1%)\n",
    "\n",
    "EPSILON = 1e-10\n",
    "Overall_errors = abs(New_model_LGDs - data['ELGD'][y_test.index])\n",
    "Overall_maape = np.mean(np.arctan(Overall_errors / (data['ELGD'][y_test.index] + EPSILON)))\n",
    "print('Mean Absolute Error (Challenger1):', round(np.mean(Overall_errors),2), 'degrees.')\n",
    "print('Mean Arctan Absolute Percentage Error (Challenger1): ', round(Overall_maape,2), '%.')"
   ]
  },
  {
   "cell_type": "markdown",
   "metadata": {},
   "source": [
    "Through manually exploring different cut-off thresholds, the best performance was found to occur when we classify a loan to LGD group 2 (i.e. full loss) if the probability of that classification from our model is at least 40% and classifying it as group 1 (i.e. partial loss) if there is a probability of at least 45% for that loan being in that category. Let's look at the 2nd approach before discussing performance."
   ]
  },
  {
   "cell_type": "markdown",
   "metadata": {},
   "source": [
    "#### 2nd approach - probability weighted\n",
    "This next approach doesn't require that we classify the loan first, it simply uses the probabilities associated with each category to probability weight the outcomes."
   ]
  },
  {
   "cell_type": "code",
   "execution_count": 269,
   "metadata": {},
   "outputs": [
    {
     "name": "stdout",
     "output_type": "stream",
     "text": [
      "Mean Absolute Error (2nd Challenger): 0.11 degrees.\n",
      "Mean Arctan Absolute Percentage Error (2nd Challenger):  1.22 %.\n"
     ]
    }
   ],
   "source": [
    "# Second approach\n",
    "\n",
    "LGD_predict2 = regressor.predict(X_test[:,1:])\n",
    "\n",
    "New2_model_LGDs = [round(np.dot(probs[k], [0,round(LGD_predict2[k],4),1]),4) for k in range(len(probs))]\n",
    "\n",
    "New2_errors = abs(New2_model_LGDs - data['ELGD'][y_test.index])\n",
    "New2_maape = np.mean(np.arctan(New2_errors / (data['ELGD'][y_test.index] + EPSILON)))\n",
    "print('Mean Absolute Error (2nd Challenger):', round(np.mean(New2_errors),2), 'degrees.')\n",
    "print('Mean Arctan Absolute Percentage Error (2nd Challenger): ', round(New2_maape,2), '%.')"
   ]
  },
  {
   "cell_type": "markdown",
   "metadata": {},
   "source": [
    "Looking at the Mean Absolute Error and the Mean ArcTan Absolute Percentage Error (since many actual values of LGD are 0 and would create an error with Mean Absolute Percentage Error), the first approach appears to perform better. However, let's also look visually at the results and compare them against the current model in production.\n",
    "\n",
    "#### Performance (of two-step model) compared to current model"
   ]
  },
  {
   "cell_type": "code",
   "execution_count": 270,
   "metadata": {},
   "outputs": [
    {
     "data": {
      "image/png": "[encoded data removed]",
      "text/plain": [
       "<Figure size 1080x540 with 3 Axes>"
      ]
     },
     "metadata": {
      "needs_background": "light"
     },
     "output_type": "display_data"
    },
    {
     "name": "stdout",
     "output_type": "stream",
     "text": [
      "Mean Absolute Error (Challenger): 0.08 degrees.\n",
      "Mean Arctan Absolute Percentage Error (Challenger):  0.13 %.\n",
      "Mean Absolute Error (Current): 0.12 degrees.\n",
      "Mean Arctan Absolute Percentage Error (Current):  1.42 %.\n",
      "Mean Absolute Error (2nd Challenger): 0.11 degrees.\n",
      "Mean Arctan Absolute Percentage Error (2nd Challenger):  1.22 %.\n"
     ]
    }
   ],
   "source": [
    "# Performance of the above two approaches compared to current model\n",
    "\n",
    "fig, ax = plt.subplots(1, 3, figsize = (15,7.5))\n",
    "ax[0].scatter(data['ELGD'][y_test.index], New_model_LGDs)\n",
    "ax[1].scatter(data['ELGD'][y_test.index], data['Model_LGD'][y_test.index])\n",
    "ax[2].scatter(data['ELGD'][y_test.index], New2_model_LGDs)\n",
    "ax[0].set_xlabel(r'Actual')\n",
    "ax[0].set_ylabel(r'Predicted')\n",
    "ax[1].set_xlabel(r'Actual')\n",
    "ax[1].set_ylabel(r'Predicted')\n",
    "ax[2].set_xlabel(r'Actual')\n",
    "ax[2].set_ylabel(r'Predicted')\n",
    "ax[0].set_title(r'Challenger Model')\n",
    "ax[1].set_title(r'Current Model')\n",
    "ax[2].set_title(r'2nd Challenger Model')\n",
    "plt.show()\n",
    "\n",
    "EPSILON = 1e-10\n",
    "Overall_errors = abs(New_model_LGDs - data['ELGD'][y_test.index])\n",
    "Overall_maape = np.mean(np.arctan(Overall_errors / (data['ELGD'][y_test.index] + EPSILON)))\n",
    "print('Mean Absolute Error (Challenger):', round(np.mean(Overall_errors),2), 'degrees.')\n",
    "print('Mean Arctan Absolute Percentage Error (Challenger): ', round(Overall_maape,2), '%.')\n",
    "\n",
    "Current_errors = abs(data['Model_LGD'][y_test.index] - data['ELGD'][y_test.index])\n",
    "Current_maape = np.mean(np.arctan(Current_errors / (data['ELGD'][y_test.index] + EPSILON)))\n",
    "print('Mean Absolute Error (Current):', round(np.mean(Current_errors),2), 'degrees.')\n",
    "print('Mean Arctan Absolute Percentage Error (Current): ', round(Current_maape,2), '%.')\n",
    "\n",
    "New2_errors = abs(New2_model_LGDs - data['ELGD'][y_test.index])\n",
    "New2_maape = np.mean(np.arctan(New2_errors / (data['ELGD'][y_test.index] + EPSILON)))\n",
    "print('Mean Absolute Error (2nd Challenger):', round(np.mean(New2_errors),2), 'degrees.')\n",
    "print('Mean Arctan Absolute Percentage Error (2nd Challenger): ', round(New2_maape,2), '%.')"
   ]
  },
  {
   "cell_type": "markdown",
   "metadata": {},
   "source": [
    "Both challenger approaches lead to an improvement to the model fit / performance. Of the two ways of putting together the two-steps, the first approach (i.e. Challenger Model - that classifies first) performs the best. It seems to get its superior performance from predicting a lot of 0 LGDs and some 1s. Which is what we see in experience, but naturally this will result in predicted 0s when they in fact will have a loss. However, on the aggregate, this error is considerably smaller than the error created by the second approach and the existing model."
   ]
  },
  {
   "cell_type": "markdown",
   "metadata": {},
   "source": [
    "### 4.4 One-step LGD Model\n",
    "The intent was also to attempt the LGD model in one step directly. The following approaches are explored:\n",
    "1. Random Forest Regression (using scikit learn RandomForestRegressor)\n",
    "2. K-Nearest Neighbors Regression (using scikit learn KNeighborsRegressor)\n",
    "3. Neural Network Multi-layer Perceptron Regression (using scikit learn neural_network.MLPRegressor)\n",
    "4. Simulation based model (adapting the simulation model previously shown)\n",
    "<br/>\n",
    "\n",
    "\n",
    "#### 4.4.1 Random Forest one-step model"
   ]
  },
  {
   "cell_type": "code",
   "execution_count": 277,
   "metadata": {},
   "outputs": [
    {
     "name": "stdout",
     "output_type": "stream",
     "text": [
      "Top 5 variables by importance:\n",
      "Variable: LOAN_TO_SEC_RATIO    Importance: 0.16\n",
      "Variable: RISK_SCORE           Importance: 0.16\n",
      "Variable: EAD                  Importance: 0.12\n",
      "Variable: LEVERAGE_RATIO       Importance: 0.08\n",
      "Variable: DEBT_SERV_COV_RATIO  Importance: 0.08\n"
     ]
    }
   ],
   "source": [
    "# 1. Random Forest approach to one-step model\n",
    "\n",
    "regressor2 = RandomForestRegressor(n_estimators=100, random_state = 87)\n",
    "regressor2.fit(X_train[:,1:],data['ELGD'][y_train.index])\n",
    "\n",
    "LGD_RF_predict = regressor2.predict(X_test[:,1:])\n",
    "\n",
    "feature_list = list(X.iloc[:,1:].columns)\n",
    "importances2 = list(regressor2.feature_importances_)\n",
    "\n",
    "feature_importance2 = [(feature, round(importance, 2)) for feature, importance in zip(feature_list, importances2)]\n",
    "feature_importance2 = sorted(feature_importance2, key = lambda x: x[1], reverse = True)\n",
    "print('Top 5 variables by importance:')\n",
    "[print('Variable: {:20} Importance: {}'.format(*pair)) for pair in feature_importance2[0:5]];"
   ]
  },
  {
   "cell_type": "markdown",
   "metadata": {},
   "source": [
    "#### 4.4.2 K Nearest Neighbors one-step model"
   ]
  },
  {
   "cell_type": "code",
   "execution_count": 278,
   "metadata": {},
   "outputs": [],
   "source": [
    "# k-NN approach to one-step model\n",
    "\n",
    "KNN1 = KNeighborsRegressor(n_neighbors=1)\n",
    "KNN1.fit(X_train[:,1:],data['ELGD'][y_train.index])\n",
    "\n",
    "LGD_KNN_predict = KNN1.predict(X_test[:,1:])"
   ]
  },
  {
   "cell_type": "markdown",
   "metadata": {},
   "source": [
    "#### 4.4.3 Multi-layer neural network one-step model"
   ]
  },
  {
   "cell_type": "code",
   "execution_count": 305,
   "metadata": {},
   "outputs": [],
   "source": [
    "# Multi-layer neural network approach to one-step model\n",
    "\n",
    "from sklearn.neural_network import MLPRegressor\n",
    "from sklearn.pipeline import make_pipeline\n",
    "\n",
    "MLPNN =  make_pipeline(StandardScaler(),MLPRegressor(hidden_layer_sizes=(50, 50),tol=1e-2, max_iter=100, random_state=99))\n",
    "MLPNN.fit(X_train[:,1:],data['ELGD'][y_train.index])\n",
    "\n",
    "LGD_MLPNN_predict = MLPNN.predict(X_test[:,1:])\n",
    "LGD_MLPNN_predict = [max(min(x,1),0) for x in LGD_MLPNN_predict]"
   ]
  },
  {
   "cell_type": "markdown",
   "metadata": {},
   "source": [
    "#### 4.4.4 Performance of one-step models (excluding simulation for now)\n",
    "With all of the one-step models now complete (excluding the simulation approach) and predictions generated from each, we can compare the performance against each, as well as against the two-step challenger model selected earlier. Note - I did play around with the \"hyper-parameters\" a bit to try to \"optimize\" the neural network approach."
   ]
  },
  {
   "cell_type": "code",
   "execution_count": 307,
   "metadata": {},
   "outputs": [
    {
     "data": {
      "image/png": "[encoded data removed]",
      "text/plain": [
       "<Figure size 1152x540 with 4 Axes>"
      ]
     },
     "metadata": {
      "needs_background": "light"
     },
     "output_type": "display_data"
    },
    {
     "name": "stdout",
     "output_type": "stream",
     "text": [
      "Mean Absolute Error (Two-step Model): 0.08 degrees.\n",
      "Mean Arctan Absolute Percentage Error (Two-step Model):  0.13 %.\n",
      "Mean Absolute Error (One-step Random Forest): 0.11 degrees.\n",
      "Mean Arctan Absolute Percentage Error (One-step Random Forest):  1.42 %.\n",
      "Mean Absolute Error (One-step k-NN): 0.11 degrees.\n",
      "Mean Arctan Absolute Percentage Error (One-step k-NN):  0.29 %.\n",
      "Mean Absolute Error (One-step Neural): 0.12 degrees.\n",
      "Mean Arctan Absolute Percentage Error (One-step Neural):  0.93 %.\n"
     ]
    }
   ],
   "source": [
    "# Visuals and performance for one-step models\n",
    "\n",
    "fig, ax3 = plt.subplots(1, 4, figsize = (16,7.5))\n",
    "ax3[0].scatter(data['ELGD'][y_test.index], New_model_LGDs)\n",
    "ax3[1].scatter(data['ELGD'][y_test.index], LGD_RF_predict)\n",
    "ax3[2].scatter(data['ELGD'][y_test.index], LGD_KNN_predict)\n",
    "ax3[3].scatter(data['ELGD'][y_test.index], LGD_MLPNN_predict)\n",
    "ax3[0].set_xlabel(r'Actual')\n",
    "ax3[0].set_ylabel(r'Predicted')\n",
    "ax3[1].set_xlabel(r'Actual')\n",
    "ax3[1].set_ylabel(r'Predicted')\n",
    "ax3[2].set_xlabel(r'Actual')\n",
    "ax3[2].set_ylabel(r'Predicted')\n",
    "ax3[3].set_xlabel(r'Actual')\n",
    "ax3[3].set_ylabel(r'Predicted')\n",
    "ax3[0].set_title(r'Two-step Model')\n",
    "ax3[1].set_title(r'One-step Random Forest Model')\n",
    "ax3[2].set_title(r'One-step k-NN Model')\n",
    "ax3[3].set_title(r'One-step Neural Model')\n",
    "plt.show()\n",
    "\n",
    "Overall_errors = abs(New_model_LGDs - data['ELGD'][y_test.index])\n",
    "Overall_maape = np.mean(np.arctan(Overall_errors / (data['ELGD'][y_test.index] + EPSILON)))\n",
    "print('Mean Absolute Error (Two-step Model):', round(np.mean(Overall_errors),2), 'degrees.')\n",
    "print('Mean Arctan Absolute Percentage Error (Two-step Model): ', round(Overall_maape,2), '%.')\n",
    "\n",
    "One_step_rf_errors = abs(LGD_RF_predict - data['ELGD'][y_test.index])\n",
    "One_step_rf_maape = np.mean(np.arctan(One_step_rf_errors / (data['ELGD'][y_test.index] + EPSILON)))\n",
    "print('Mean Absolute Error (One-step Random Forest):', round(np.mean(One_step_rf_errors),2), 'degrees.')\n",
    "print('Mean Arctan Absolute Percentage Error (One-step Random Forest): ', round(One_step_rf_maape,2), '%.')\n",
    "\n",
    "One_step_knn_errors = abs(LGD_KNN_predict - data['ELGD'][y_test.index])\n",
    "One_step_knn_maape = np.mean(np.arctan(One_step_knn_errors / (data['ELGD'][y_test.index] + EPSILON)))\n",
    "print('Mean Absolute Error (One-step k-NN):', round(np.mean(One_step_knn_errors),2), 'degrees.')\n",
    "print('Mean Arctan Absolute Percentage Error (One-step k-NN): ', round(One_step_knn_maape,2), '%.')\n",
    "\n",
    "One_step_mlpnn_errors = abs(LGD_MLPNN_predict - data['ELGD'][y_test.index])\n",
    "One_step_mlpnn_maape = np.mean(np.arctan(One_step_mlpnn_errors / (data['ELGD'][y_test.index] + EPSILON)))\n",
    "print('Mean Absolute Error (One-step Neural):', round(np.mean(One_step_mlpnn_errors),2), 'degrees.')\n",
    "print('Mean Arctan Absolute Percentage Error (One-step Neural): ', round(One_step_mlpnn_maape,2), '%.')"
   ]
  },
  {
   "cell_type": "markdown",
   "metadata": {},
   "source": [
    "At this point, the two-step model that classifies first is still the top performing approach."
   ]
  },
  {
   "cell_type": "markdown",
   "metadata": {},
   "source": [
    "#### 4.4.5 Performance against simulations\n",
    "There is one final benefit to the LGD simulator that I developed earlier. It can be used to benchmark the performance of the above models. We would expect the performance of a non-naive model to perform better than the random generator. We know the random generator does well on the aggregate, but not necessary at the individual loan level. Therefore, the (hopefully) better performance of our champion model should be due to it performing better at the individual loan level, as compared to random performance. Before we check the performance though, we need to replace the \"0.01\" from the simulations with \"0\" since we forced a minimum of 1% LGD in the simulation model to account for the discounted recovery cashflows."
   ]
  },
  {
   "cell_type": "code",
   "execution_count": 362,
   "metadata": {},
   "outputs": [],
   "source": [
    "Alt_LGDs = np.zeros(len(LGDs))\n",
    "\n",
    "for i in range(len(LGDs)):\n",
    "    if LGDs[i] == .01:\n",
    "        Alt_LGDs[i] = 0\n",
    "    else: Alt_LGDs[i] = LGDs[i]"
   ]
  },
  {
   "cell_type": "code",
   "execution_count": 363,
   "metadata": {},
   "outputs": [
    {
     "data": {
      "image/png": "[encoded data removed]",
      "text/plain": [
       "<Figure size 1152x540 with 2 Axes>"
      ]
     },
     "metadata": {
      "needs_background": "light"
     },
     "output_type": "display_data"
    },
    {
     "name": "stdout",
     "output_type": "stream",
     "text": [
      "Mean Absolute Error (Two-step Model): 0.08 degrees.\n",
      "Mean Arctan Absolute Percentage Error (Two-step Model):  0.13 %.\n",
      "Mean Absolute Error (Simulation Model): 0.15 degrees.\n",
      "Mean Arctan Absolute Percentage Error (Simulation Model):  0.28 %.\n"
     ]
    }
   ],
   "source": [
    "fig, ax4 = plt.subplots(1, 2, figsize = (16,7.5))\n",
    "ax4[0].scatter(data['ELGD'][y_test.index], New_model_LGDs)\n",
    "ax4[1].scatter(data['ELGD'][y_test.index], Alt_LGDs[y_test.index])\n",
    "ax4[0].set_xlabel(r'Actual')\n",
    "ax4[0].set_ylabel(r'Predicted')\n",
    "ax4[1].set_xlabel(r'Actual')\n",
    "ax4[1].set_ylabel(r'Predicted')\n",
    "ax4[0].set_title(r'Champion Two-step Model')\n",
    "ax4[1].set_title(r'Simulation Model')\n",
    "\n",
    "plt.show()\n",
    "\n",
    "print('Mean Absolute Error (Two-step Model):', round(np.mean(Overall_errors),2), 'degrees.')\n",
    "print('Mean Arctan Absolute Percentage Error (Two-step Model): ', round(Overall_maape,2), '%.')\n",
    "\n",
    "Random_errors = abs(Alt_LGDs[y_test.index] - data['ELGD'][y_test.index])\n",
    "Random_maape = np.mean(np.arctan(Random_errors / (data['ELGD'][y_test.index] + EPSILON)))\n",
    "print('Mean Absolute Error (Simulation Model):', round(np.mean(Random_errors),2), 'degrees.')\n",
    "print('Mean Arctan Absolute Percentage Error (Simulation Model): ', round(Random_maape,2), '%.')"
   ]
  },
  {
   "cell_type": "markdown",
   "metadata": {},
   "source": [
    "Given the simulation model performs quite well - in fact pretty similar to our best performing one-step model - it is worth exploring further.\n",
    "\n",
    "#### Simulation model as predictive model\n",
    "I think it is worth taking the simulation model one step further to attempt it as a prediction model. Early I simply generated the same number of loans as our original data set, based on the same proportion of LTV groups. This meant that on the aggregate results would be appropriate, but did not guarantee loan-level accuracy. I will do the following to extend this approach to a predictive loan-level model:\n",
    "* Run the simulations only on the test group of our prediction models\n",
    "* Run many (i.e. 1000 or more) simulations per loan\n",
    "* Take the average across the simulations for each loan"
   ]
  },
  {
   "cell_type": "code",
   "execution_count": 359,
   "metadata": {},
   "outputs": [],
   "source": [
    "# Multiple simulation model - takes long time to run... only run if needed. Run sims = 5 if you just want to plat around with it.\n",
    "sims = 1000\n",
    "Sim_LGDs = np.zeros((len(y_test),sims))\n",
    "\n",
    "for j in range(sims):\n",
    "\n",
    "    for i in range(len(y_test)):\n",
    "        if data.LTV_Group.eq('Above 1.45')[y_test.index].iloc[i]:\n",
    "            if np.random.uniform(0,1,1) < Unsecured_threshold_low:\n",
    "                Sim_LGDs[i][j] = 0\n",
    "            elif np.random.uniform(0,1,1) > Unsecured_threshold_high:\n",
    "                Sim_LGDs[i][j] = 1\n",
    "            else: Sim_LGDs[i][j] = np.random.uniform(0,1,1)\n",
    "        elif data.LTV_Group.eq('0.8 to 1.45')[y_test.index].iloc[i]:\n",
    "            if np.random.uniform(0,1,1) < High_threshold_low:\n",
    "                Sim_LGDs[i][j] = 0\n",
    "            elif np.random.uniform(0,1,1) > High_threshold_high:\n",
    "                Sim_LGDs[i][j] = 1\n",
    "            else: Sim_LGDs[i][j] = np.random.uniform(0,1,1)\n",
    "        elif data.LTV_Group.eq('0.5 to 0.8')[y_test.index].iloc[i]:\n",
    "            if np.random.uniform(0,1,1) < Normal_threshold_low:\n",
    "                Sim_LGDs[i][j] = 0\n",
    "            elif np.random.uniform(0,1,1) > Normal_threshold_high:\n",
    "                Sim_LGDs[i][j] = 1\n",
    "            else: Sim_LGDs[i][j] = np.random.uniform(0,1,1)\n",
    "        else:\n",
    "            if np.random.uniform(0,1,1) < Low_threshold_low:\n",
    "                Sim_LGDs[i][j] = 0\n",
    "            elif np.random.uniform(0,1,1) > Low_threshold_high:\n",
    "                Sim_LGDs[i][j] = 1\n",
    "            else: Sim_LGDs[i][j] = np.random.uniform(0,1,1)"
   ]
  },
  {
   "cell_type": "code",
   "execution_count": 360,
   "metadata": {},
   "outputs": [
    {
     "data": {
      "image/png": "[encoded data removed]",
      "text/plain": [
       "<Figure size 1152x540 with 2 Axes>"
      ]
     },
     "metadata": {
      "needs_background": "light"
     },
     "output_type": "display_data"
    },
    {
     "name": "stdout",
     "output_type": "stream",
     "text": [
      "Mean Absolute Error (Two-step Model): 0.08 degrees.\n",
      "Mean Arctan Absolute Percentage Error (Two-step Model):  0.13 %.\n",
      "Mean Absolute Error (Mean Simulation Model): 0.13 degrees.\n",
      "Mean Arctan Absolute Percentage Error (Mean Simulation Model):  1.44 %.\n"
     ]
    }
   ],
   "source": [
    "mean_sim_LGDs = np.mean(Sim_LGDs, axis=1)\n",
    "mean_sim_LGDs = [round(x,2) for x in mean_sim_LGDs]\n",
    "\n",
    "fig, ax5 = plt.subplots(1, 2, figsize = (16,7.5))\n",
    "ax5[0].scatter(data['ELGD'][y_test.index], New_model_LGDs)\n",
    "ax5[1].scatter(data['ELGD'][y_test.index], mean_sim_LGDs)\n",
    "ax5[0].set_xlabel(r'Actual')\n",
    "ax5[0].set_ylabel(r'Predicted')\n",
    "ax5[1].set_xlabel(r'Actual')\n",
    "ax5[1].set_ylabel(r'Predicted')\n",
    "ax5[0].set_title(r'Champion Two-step Model')\n",
    "ax5[1].set_title(r'Mean Simulation Model')\n",
    "\n",
    "plt.show()\n",
    "\n",
    "print('Mean Absolute Error (Two-step Model):', round(np.mean(Overall_errors),2), 'degrees.')\n",
    "print('Mean Arctan Absolute Percentage Error (Two-step Model): ', round(Overall_maape,2), '%.')\n",
    "\n",
    "Mean_Random_errors = abs(mean_sim_LGDs - data['ELGD'][y_test.index])\n",
    "Mean_Random_maape = np.mean(np.arctan(Mean_Random_errors / (data['ELGD'][y_test.index] + EPSILON)))\n",
    "print('Mean Absolute Error (Mean Simulation Model):', round(np.mean(Mean_Random_errors),2), 'degrees.')\n",
    "print('Mean Arctan Absolute Percentage Error (Mean Simulation Model): ', round(Mean_Random_maape,2), '%.')\n"
   ]
  },
  {
   "cell_type": "markdown",
   "metadata": {},
   "source": [
    "It turns out that running many simuations and averaging across for each loan, produces worse performance than a single simulation run. From the visual above (on the right), we can see that the predicted LGDs start to cluster is four ranges - 35% to 40%, ~12% to 16%, 5% to 10%, and ~2% to 5%. These are essentially probability weighted averages of the four different LTV groups used to generate the simulations. While these averages line-up roughly with what we expect, it differs more at the loan-level then previous models we have tested.\n",
    "\n",
    "**Therefore, retain the \"Champion Two-Step Model\" as the best prediction model at the loan-level.**"
   ]
  },
  {
   "cell_type": "markdown",
   "metadata": {},
   "source": [
    "<br/>\n",
    "\n",
    "## 5. Outcomes\n",
    "This section will discuss the conclusions of the analysis, summarize the impacts for my organization, and present next steps.\n",
    "\n",
    "### 5.1 Conclusions\n",
    "The key objective at the onset of this analysis was to see if more modern data science and machine learning techniques could be leverage to enhance my organizations LGD model within the Allowance for Credit Losses accounting process. The result is that an improved model (compared to the existing model in production) was developed using the following:\n",
    "\n",
    "* A two-step model that uses a Random Forest algorithm to classify each loan into one of three classes: 0 - no losses, 1 - partial losses, and 2 - full loss, and then\n",
    "* uses a Random Forest algorithm to regress a number between 0 and 1 for those classified as partial losses.\n",
    "\n",
    "Comparing the existing model to the new model, there was an improvement to the Mean Squared Error (from 0.12 to 0.08) and to the Mean Arctan Absolute Percentage Error (from 1.42% to 0.13%).\n",
    "\n",
    "A valuable output of the Random Forest algorithm is the feature importance. In both steps (i.e. the classification and regression step), the same five features were the top five most important: Risk Score, LTV, Exposure, Leverage, and Debt to Service Ratio. These features are appropriate from a business perspective and will resinate with management at my organization from a inuition standpoint. This will help with the buy-in and potential use of the model in production.\n",
    "\n",
    "### 5.2 Impacts\n",
    "A more accurate LGD model would allow the organization to calculate a more accurate level of allowance on its Financial Statements. It can also allow for more refined pricing of risk for our customers. \n",
    "\n",
    "However, to have this impact it would need further testing against updated data (not currently available), and it would need to be accepted by the organization's Model Governance Committee, by internal model users, and by the company's accountants and auditors. There is a lot involved to do this that is out of scope of this term project. That said, the results from this analysis will be used exactly as I anticipated at the onset, with an additional impact that was unanticipated:\n",
    "* The \"Challenger\" model (i.e. the model in the conclusions section above) will be used to inform the next round of model development for the LGD model. It will also be used to challenge and benchmark the more traditional approaches that are currently used. This will allow time to familiarize some of these concepts with stakeholders and share results against models they are familiar with.\n",
    "* The unanticipated impact / benefit is that the LGD simulation engine I designed will be used within a credit risk economic capital model used by the organization to understand extreme risk events. \n",
    "\n",
    "### 5.3 Next Steps\n",
    "As mentioned in the previous section, there are many steps involved in moving this forward in an organization of this size and complexity. Below are a few of the key next steps:\n",
    "* Work with the Model Development team to implement (and adjust as needed) the LGD simulation engine into the economic capital model.\n",
    "* Work with IT and Finance to get updated loss data (from 2013 to 2019)\n",
    "* Re-run the models including the more recent time series and check the performance again\n",
    "* Incorporate the \"Challenger\" model into the Model Performance Monitoring process for the current LGD model to begin familiarizing stakeholders with the new model\n",
    "* Explore enhancements to the Challenger model that bring in macro economic variables to make the model more \"forward-looking\"\n",
    "* Once stakeholder \"buy-in\" of the newer techniques gets to a certain level, explore using the Challenger model in production\n",
    "* Work with IT to determine best practices to deploying these types of models into production where strict audit trails and performance monitoring requirements exist\n",
    "\n",
    "These steps are out of scope of this term project. However, the work done in this project is foundational to helping us move forward and has already produced valuable benefits."
   ]
  }
 ],
 "metadata": {
  "kernelspec": {
   "display_name": "Python 3",
   "language": "python",
   "name": "python3"
  },
  "language_info": {
   "codemirror_mode": {
    "name": "ipython",
    "version": 3
   },
   "file_extension": ".py",
   "mimetype": "text/x-python",
   "name": "python",
   "nbconvert_exporter": "python",
   "pygments_lexer": "ipython3",
   "version": "3.7.3"
  }
 },
 "nbformat": 4,
 "nbformat_minor": 2
}
